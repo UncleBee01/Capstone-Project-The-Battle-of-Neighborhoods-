{
 "cells": [
  {
   "cell_type": "markdown",
   "id": "61369f4e",
   "metadata": {},
   "source": [
    "# Capstone Project - The Battle of Neighborhoods\n",
    "## Applied Data Science Capstone by IBM on Coursera"
   ]
  },
  {
   "cell_type": "markdown",
   "id": "5a5c50e3",
   "metadata": {},
   "source": [
    "## Data Requirements"
   ]
  },
  {
   "cell_type": "markdown",
   "id": "29e53b61",
   "metadata": {},
   "source": [
    "The Dataset is the Wikipedia page of Lagos state (https://en.wikipedia.org/wiki/List_of_Lagos_State_local_government_areas_by_population)\n",
    "\n",
    "We shall explore Lagos city through its respective Local Government Areas (LGA) or Boroughs. The above link is a web page that shows the respective boroughs in Lagos State and each population figure. It's a public Wikipedia data page.\n",
    "First, we’d save the weblink for The Lagos data, then get the source code HTML data from the Website and use The Beautifulsoup module to parse it. The next step is to get the table that contains the data we want to scrape from. Then finally, we’d iterate through each link of the table and append the text parts.\n",
    "\n",
    "We than creating the data frame, we create a dictionary and append the LGA and corresponding Population data to it. Then we would attach a column of longitude and latitude by using the geopy.nominatim library to get each LGA latitude and longitude data."
   ]
  },
  {
   "cell_type": "markdown",
   "id": "ae0c3575",
   "metadata": {},
   "source": [
    "The following steps are taken to analysed the data:\n",
    "\n",
    "• We scrape the web page using the beautiful soup library\n",
    "\n",
    "• Follow by using Foursquare API calls to retrieve geolocation data and then fetch the text data using the requests library\n",
    "\n",
    "• We than convert it from JSON to Pandas data frame using the json_normalize module\n",
    "\n",
    "• We shall use the folium library to render the maps and plot these via The Matplotlib library. Then we shall explore     respective boroughs and analyse each area as a location for Start-up based on the aforementioned parameters.\n",
    "\n",
    "• After this, we shall select our top location."
   ]
  },
  {
   "cell_type": "markdown",
   "id": "16ace566",
   "metadata": {},
   "source": []
  },
  {
   "cell_type": "code",
   "execution_count": null,
   "id": "51468122",
   "metadata": {},
   "outputs": [],
   "source": []
  }
 ],
 "metadata": {
  "kernelspec": {
   "display_name": "Python 3",
   "language": "python",
   "name": "python3"
  },
  "language_info": {
   "codemirror_mode": {
    "name": "ipython",
    "version": 3
   },
   "file_extension": ".py",
   "mimetype": "text/x-python",
   "name": "python",
   "nbconvert_exporter": "python",
   "pygments_lexer": "ipython3",
   "version": "3.8.8"
  }
 },
 "nbformat": 4,
 "nbformat_minor": 5
}
