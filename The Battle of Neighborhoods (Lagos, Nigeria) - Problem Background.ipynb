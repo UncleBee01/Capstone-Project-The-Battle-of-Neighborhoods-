{
 "cells": [
  {
   "cell_type": "markdown",
   "id": "2cfa2a32",
   "metadata": {},
   "source": [
    "# Capstone Project - The Battle of Neighborhoods\n",
    "## Applied Data Science Capstone by IBM on Coursera"
   ]
  },
  {
   "cell_type": "markdown",
   "id": "acce3ce5",
   "metadata": {},
   "source": [
    "## Introduction: Problem Background"
   ]
  },
  {
   "cell_type": "markdown",
   "id": "88aaaaf7",
   "metadata": {},
   "source": [
    "This project deals with discussing the neighbourhoods of Lagos city, The commercial capital of Nigeria (The Most populous black nation) and the commercial hub of West Africa. It is the 4th wealthiest city in Africa, fourth place behind Johannesburg, Cairo and Cape Town.\n"
   ]
  },
  {
   "cell_type": "markdown",
   "id": "fc90decc",
   "metadata": {},
   "source": [
    "This project is aim at helping people planning to start-up business in the city find the most ideal location.\n",
    "\n",
    "The Foursquare API is used to access the venues in the neighbourhoods. Since, it returns less venues in the neighbourhoods, we would be analysing areas for which countable number of venues are obtained. Then they are clustered based on their venues using Data Science Techniques. Here the k-means clustering algorithm is used to achieve the task. Folium visualization library can be used to visualize the clusters superimposed on the map of the city. These clusters can be analysed to help small scale business owners select a suitable location for their need such as Ice cream shop, Hotels, Restaurants or Pizza shops."
   ]
  },
  {
   "cell_type": "markdown",
   "id": "d1a062c1",
   "metadata": {},
   "source": []
  },
  {
   "cell_type": "markdown",
   "id": "d5494291",
   "metadata": {},
   "source": []
  }
 ],
 "metadata": {
  "kernelspec": {
   "display_name": "Python 3",
   "language": "python",
   "name": "python3"
  },
  "language_info": {
   "codemirror_mode": {
    "name": "ipython",
    "version": 3
   },
   "file_extension": ".py",
   "mimetype": "text/x-python",
   "name": "python",
   "nbconvert_exporter": "python",
   "pygments_lexer": "ipython3",
   "version": "3.8.8"
  }
 },
 "nbformat": 4,
 "nbformat_minor": 5
}
