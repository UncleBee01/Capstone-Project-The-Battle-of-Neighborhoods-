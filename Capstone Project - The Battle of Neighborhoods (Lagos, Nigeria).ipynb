{
 "cells": [
  {
   "cell_type": "markdown",
   "id": "afe3e6cc",
   "metadata": {},
   "source": [
    "# <center>Capstone Project - The Battle of Neighborhoods (Lagos, Nigeria) </center>\n",
    "## <center>Applied Data Science Capstone by IBM on Coursera</center>"
   ]
  },
  {
   "cell_type": "markdown",
   "id": "acce3ce5",
   "metadata": {},
   "source": [
    "## Introduction: Problem Background"
   ]
  },
  {
   "cell_type": "markdown",
   "id": "88aaaaf7",
   "metadata": {},
   "source": [
    "This project deals with discussing the neighbourhoods of Lagos city, The commercial capital of Nigeria (The Most populous black nation) and the commercial hub of West Africa. It is the 4th wealthiest city in Africa, fourth place behind Johannesburg, Cairo and Cape Town.\n",
    "\n",
    "This project would help people planning to start-up business in the city find the most ideal location.\n",
    "\n",
    "The Foursquare API is used to access the venues in the neighbourhoods. Since, it returns less venues in the neighbourhoods, we would be analysing areas for which countable number of venues are obtained. Then they are clustered based on their venues using Data Science Techniques. Here the k-means clustering algorithm is used to achieve the task. Folium visualization library can be used to visualize the clusters superimposed on the map of the city. These clusters can be analysed to help small scale business owners select a suitable location for their need such as Hotels, Restaurants or Pizza shops."
   ]
  },
  {
   "cell_type": "markdown",
   "id": "fc90decc",
   "metadata": {},
   "source": [
    "## Data Requirements"
   ]
  },
  {
   "cell_type": "markdown",
   "id": "d1a062c1",
   "metadata": {},
   "source": [
    "The Dataset is the Wikipedia page of Lagos state (https://en.wikipedia.org/wiki/List_of_Lagos_State_local_government_areas_by_population)\n",
    "\n",
    "We shall explore Lagos city through its respective Local Government Areas (LGA) or Boroughs. The above link is a web page that shows the respective boroughs in Lagos State and each population figure. It's a public Wikipedia data page.\n",
    "First, we’d save the weblink for The Lagos data, then get the source code HTML data from the Website and use The Beautifulsoup module to parse it. The next step is to get the table that contains the data we want to scrape from. Then finally, we’d iterate through each link of the table and append the text parts.\n",
    "\n",
    "We than creating the data frame, we create a dictionary and append the LGA and corresponding Population data to it. Then we would attach a column of longitude and latitude by using the geopy.nominatim library to get each LGA latitude and longitude data."
   ]
  },
  {
   "cell_type": "markdown",
   "id": "91ca7bd0",
   "metadata": {},
   "source": [
    "The following steps are taken to analysed the data:\n",
    "• We scrape the web page using the beautiful soup library\n",
    "• Follow by using Foursquare API calls to retrieve geolocation data and then fetch the text data using the requests library\n",
    "• We than convert it from JSON to Pandas data frame using the json_normalize module\n",
    "• We shall use the folium library to render the maps and plot these via The Matplotlib library. Then we shall explore respective boroughs and analyse each area as a location for Start-up based on the aforementioned parameters.\n",
    "• After this, we shall select our top location."
   ]
  },
  {
   "cell_type": "code",
   "execution_count": null,
   "id": "1e5e88ac",
   "metadata": {},
   "outputs": [],
   "source": []
  },
  {
   "cell_type": "code",
   "execution_count": null,
   "id": "fa02ef09",
   "metadata": {},
   "outputs": [],
   "source": []
  },
  {
   "cell_type": "code",
   "execution_count": null,
   "id": "45d56172",
   "metadata": {},
   "outputs": [],
   "source": []
  }
 ],
 "metadata": {
  "kernelspec": {
   "display_name": "Python 3",
   "language": "python",
   "name": "python3"
  },
  "language_info": {
   "codemirror_mode": {
    "name": "ipython",
    "version": 3
   },
   "file_extension": ".py",
   "mimetype": "text/x-python",
   "name": "python",
   "nbconvert_exporter": "python",
   "pygments_lexer": "ipython3",
   "version": "3.8.8"
  }
 },
 "nbformat": 4,
 "nbformat_minor": 5
}
